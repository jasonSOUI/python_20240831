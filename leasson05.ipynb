{
 "cells": [
  {
   "cell_type": "code",
   "execution_count": 6,
   "metadata": {},
   "outputs": [
    {
     "name": "stdout",
     "output_type": "stream",
     "text": [
      "1到100的總和是: 5050\n",
      "使用while迴圈計算1到100的總和: 5050\n"
     ]
    }
   ],
   "source": [
    "# 計算1到100的總和\n",
    "total = 0\n",
    "for i in range(1, 101):\n",
    "    total += i\n",
    "print(f\"1到100的總和是: {total}\")\n",
    "\n",
    "\n",
    "# 使用while迴圈計算1到100的總和\n",
    "total = 0\n",
    "i = 1\n",
    "while i <= 100:\n",
    "    total += i\n",
    "    i += 1\n",
    "print(f\"使用while迴圈計算1到100的總和: {total}\")\n",
    "\n",
    "# 使用while迴圈和break計算1到100的總和\n",
    "total = 0\n",
    "i = 1\n",
    "while True:\n",
    "    if i > 100:\n",
    "        break\n",
    "    total += i\n",
    "    i += 1\n",
    "print(f\"使用while迴圈和break計算1到100的總和: {total}\")\n",
    "\n",
    "\n"
   ]
  },
  {
   "cell_type": "code",
   "execution_count": 34,
   "metadata": {},
   "outputs": [
    {
     "name": "stdout",
     "output_type": "stream",
     "text": [
      "您的身高 166.0 公分，體重 11.0 公斤\n",
      "您的BMI值是: 3.99, 您的體重正常\n",
      "感謝使用BMI計算程式！\n"
     ]
    }
   ],
   "source": [
    "# 計算BMI的函數\n",
    "def calculate_bmi(height_cm, weight_kg):\n",
    "    \"\"\"\n",
    "    計算BMI (Body Mass Index)\n",
    "    \n",
    "    參數:\n",
    "    height_cm (float): 身高，單位為公分\n",
    "    weight_kg (float): 體重，單位為公斤\n",
    "    \n",
    "    回傳:\n",
    "    float: BMI值，四捨五入到小數點後兩位\n",
    "    \"\"\"\n",
    "    \n",
    "    # 將身高從公分轉換為公尺\n",
    "    height_m = height_cm / 100\n",
    "    \n",
    "    # 計算BMI: 體重(kg) / 身高(m)的平方\n",
    "    bmi = weight_kg / (height_m ** 2)\n",
    "    \n",
    "    # 將結果四捨五入到小數點後兩位\n",
    "    return round(bmi, 2)\n",
    "\n",
    "# 根據BMI值判斷體重狀況\n",
    "def interpret_bmi(bmi):\n",
    "    \"\"\"\n",
    "    根據BMI值判斷體重狀況\n",
    "    \n",
    "    參數:\n",
    "    bmi (float): BMI值\n",
    "    \n",
    "    回傳:\n",
    "    str: 體重狀況的描述\n",
    "    \"\"\"\n",
    "    if bmi >= 35:\n",
    "        return \"重度肥胖\"\n",
    "    elif 30 <= bmi < 35:\n",
    "        return \"中度肥胖\"\n",
    "    elif 27 <= bmi < 30:\n",
    "        return \"輕度肥胖\"\n",
    "    elif 24 <= bmi < 27:\n",
    "        return \"過重\"\n",
    "    else:\n",
    "        return \"正常\"\n",
    "\n",
    "\n",
    "# 使用while迴圈讓使用者可以繼續計算BMI\n",
    "while True:\n",
    "    # 使用input函數讓使用者輸入身高和體重\n",
    "    height = float(input(\"請輸入您的身高（公分）: \"))\n",
    "    weight = float(input(\"請輸入您的體重（公斤）: \"))\n",
    "    \n",
    "    # 檢查輸入是否為數字\n",
    "    if not (isinstance(height, (int, float)) and isinstance(weight, (int, float))):\n",
    "        raise ValueError(\"身高和體重必須為數字\")\n",
    "    \n",
    "    # 檢查身高和體重是否大於0\n",
    "    if height <= 0 or weight <= 0:\n",
    "        raise ValueError(\"身高和體重必須大於0\")\n",
    "\n",
    "    # 計算BMI\n",
    "    bmi = calculate_bmi(height, weight)\n",
    "    status = interpret_bmi(bmi)\n",
    "\n",
    "    # 輸出結果\n",
    "    print(f\"您的身高 {height} 公分，體重 {weight} 公斤\")\n",
    "    print(f\"您的BMI值是: {bmi}, 您的體重{status}\")\n",
    "\n",
    "    # 詢問使用者是否要繼續計算\n",
    "    continue_calculation = input(\"是否要繼續計算下一個BMI？(是/否): \")\n",
    "    if continue_calculation.lower() not in ['是', 'y', 'yes']:\n",
    "        break\n",
    "\n",
    "print(\"感謝使用BMI計算程式！\")\n",
    "\n"
   ]
  },
  {
   "cell_type": "code",
   "execution_count": 32,
   "metadata": {},
   "outputs": [
    {
     "name": "stdout",
     "output_type": "stream",
     "text": [
      "請輸入有效的數字。\n",
      "請輸入有效的數字。\n",
      "您的身高 3.0 公分，體重 55.0 公斤\n",
      "您的BMI值是: 61111.11, 您的體重重度肥胖\n",
      "感謝使用BMI計算程式！\n"
     ]
    }
   ],
   "source": [
    "def get_valid_input(prompt):\n",
    "    while True:\n",
    "        try:\n",
    "            value = float(input(prompt))\n",
    "            if value <= 0:\n",
    "                print(\"輸入必須大於0，請重新輸入。\")\n",
    "            else:\n",
    "                return value\n",
    "        except ValueError:\n",
    "            print(\"請輸入有效的數字。\")\n",
    "\n",
    "# 使用while迴圈讓使用者可以繼續計算BMI\n",
    "while True:\n",
    "    # 使用get_valid_input函數讓使用者輸入身高和體重\n",
    "    height = get_valid_input(\"請輸入您的身高（公分）: \")\n",
    "    weight = get_valid_input(\"請輸入您的體重（公斤）: \")\n",
    "    \n",
    "    # 計算BMI\n",
    "    bmi = calculate_bmi(height, weight)\n",
    "    status = interpret_bmi(bmi)\n",
    "\n",
    "    # 輸出結果\n",
    "    print(f\"您的身高 {height} 公分，體重 {weight} 公斤\")\n",
    "    print(f\"您的BMI值是: {bmi:.2f}, 您的體重{status}\")\n",
    "\n",
    "    # 詢問使用者是否要繼續計算\n",
    "    continue_calculation = input(\"是否要繼續計算下一個BMI？(是/否): \")\n",
    "    if continue_calculation.lower() not in ['是', 'y', 'yes']:\n",
    "        break\n",
    "\n",
    "print(\"感謝使用BMI計算程式！\")\n"
   ]
  }
 ],
 "metadata": {
  "kernelspec": {
   "display_name": "venv1",
   "language": "python",
   "name": "python3"
  },
  "language_info": {
   "codemirror_mode": {
    "name": "ipython",
    "version": 3
   },
   "file_extension": ".py",
   "mimetype": "text/x-python",
   "name": "python",
   "nbconvert_exporter": "python",
   "pygments_lexer": "ipython3",
   "version": "3.11.9"
  }
 },
 "nbformat": 4,
 "nbformat_minor": 2
}
