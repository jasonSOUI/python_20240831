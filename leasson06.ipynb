{
 "cells": [
  {
   "cell_type": "code",
   "execution_count": 15,
   "metadata": {},
   "outputs": [
    {
     "name": "stdout",
     "output_type": "stream",
     "text": [
      "您的身高 166 公分，體重 90 公斤\n",
      "您的BMI值是: 32.66, 您的體重中度肥胖\n",
      "感謝使用BMI計算程式！\n"
     ]
    }
   ],
   "source": [
    "def get_input():\n",
    "    height = get_valid_input(\"請輸入您的身高（公分）: \")\n",
    "    weight = get_valid_input(\"請輸入您的體重（公斤）: \")\n",
    "    return height, weight\n",
    "\n",
    "# 輸入值檢核\n",
    "def get_valid_input(prompt):\n",
    "    while True:\n",
    "        try:\n",
    "            value = int(input(prompt))\n",
    "            if value <= 0:\n",
    "                print(f\"輸入必須大於0，請重新輸入。\")\n",
    "            else:\n",
    "                return value\n",
    "        except ValueError:\n",
    "            print(f\"請輸入有效的數字。\")\n",
    "\n",
    "# 計算BMI的函數\n",
    "def calculate_bmi(height_cm, weight_kg):\n",
    "    # 將身高從公分轉換為公尺\n",
    "    height_m = height_cm / 100\n",
    "    \n",
    "    # 計算BMI: 體重(kg) / 身高(m)的平方\n",
    "    bmi = weight_kg / (height_m ** 2)\n",
    "    \n",
    "    # 將結果四捨五入到小數點後兩位\n",
    "    bmi = round(bmi, 2)\n",
    "\n",
    "    # 根據BMI值判斷體重狀況\n",
    "    status = interpret_bmi(bmi)\n",
    "\n",
    "    return bmi, status\n",
    "\n",
    "# 根據BMI值判斷體重狀況\n",
    "def interpret_bmi(bmi:float) -> str:\n",
    "    if bmi >= 35:\n",
    "        return \"重度肥胖\"\n",
    "    elif bmi >= 30:\n",
    "        return \"中度肥胖\"\n",
    "    elif bmi >= 27:\n",
    "        return \"輕度肥胖\"\n",
    "    elif bmi >=24:\n",
    "        return \"過重\"\n",
    "    elif bmi < 18.5:\n",
    "        return \"體重過輕\"\n",
    "    else:\n",
    "        return \"正常範圍\"\n",
    "\n",
    "\n",
    "# 使用while迴圈讓使用者可以繼續計算BMI\n",
    "while True:\n",
    "    # 使用input函數讓使用者輸入身高和體重\n",
    "    height, weight = get_input()\n",
    "    \n",
    "    # 計算BMI\n",
    "    bmi, status = calculate_bmi(height, weight)\n",
    "    \n",
    "    # 輸出結果\n",
    "    print(f\"您的身高 {height:.0f} 公分，體重 {weight:.0f} 公斤\")\n",
    "    print(f\"您的BMI值是: {bmi}, 您的體重{status}\")\n",
    "\n",
    "    # 詢問使用者是否要繼續計算\n",
    "    continue_calculation = input(\"是否要繼續計算下一個BMI？(是/否): \")\n",
    "    if continue_calculation.lower() not in ['是', 'y', 'yes']:\n",
    "        break\n",
    "\n",
    "print(\"結束使用BMI計算程式！\")"
   ]
  }
 ],
 "metadata": {
  "kernelspec": {
   "display_name": "venv1",
   "language": "python",
   "name": "python3"
  },
  "language_info": {
   "codemirror_mode": {
    "name": "ipython",
    "version": 3
   },
   "file_extension": ".py",
   "mimetype": "text/x-python",
   "name": "python",
   "nbconvert_exporter": "python",
   "pygments_lexer": "ipython3",
   "version": "3.11.9"
  }
 },
 "nbformat": 4,
 "nbformat_minor": 2
}
