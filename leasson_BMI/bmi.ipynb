{
 "cells": [
  {
   "cell_type": "code",
   "execution_count": 5,
   "metadata": {},
   "outputs": [
    {
     "name": "stdout",
     "output_type": "stream",
     "text": [
      "您的身高 166 公分，體重 90 公斤\n",
      "您的BMI值是: 32.66, 您的體重中度肥胖\n",
      "結束使用BMI計算程式！\n"
     ]
    }
   ],
   "source": [
    "import widget # package\n",
    "# import tools # module\n",
    "\n",
    "while True:\n",
    "    # 使用input函數讓使用者輸入身高和體重\n",
    "    height, weight = widget.get_input()\n",
    "    \n",
    "    # 計算BMI\n",
    "    bmi, status = widget.calculate_bmi(height, weight)\n",
    "    \n",
    "    # 輸出結果\n",
    "    print(f\"您的身高 {height:.0f} 公分，體重 {weight:.0f} 公斤\")\n",
    "    print(f\"您的BMI值是: {bmi}, 您的體重{status}\")\n",
    "\n",
    "    # 詢問使用者是否要繼續計算\n",
    "    continue_calculation = input(\"是否要繼續計算下一個BMI？(是/否): \")\n",
    "    if continue_calculation.lower() not in ['是', 'y', 'yes']:\n",
    "        break\n",
    "\n",
    "print(\"結束使用BMI計算程式！\")"
   ]
  }
 ],
 "metadata": {
  "kernelspec": {
   "display_name": "venv1",
   "language": "python",
   "name": "python3"
  },
  "language_info": {
   "codemirror_mode": {
    "name": "ipython",
    "version": 3
   },
   "file_extension": ".py",
   "mimetype": "text/x-python",
   "name": "python",
   "nbconvert_exporter": "python",
   "pygments_lexer": "ipython3",
   "version": "3.11.9"
  }
 },
 "nbformat": 4,
 "nbformat_minor": 2
}
