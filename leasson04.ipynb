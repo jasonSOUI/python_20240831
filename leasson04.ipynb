{
 "cells": [
  {
   "cell_type": "code",
   "execution_count": 174,
   "metadata": {},
   "outputs": [
    {
     "name": "stdout",
     "output_type": "stream",
     "text": [
      "不可以考駕照\n",
      "2024-09-07 15:31:21\n"
     ]
    }
   ],
   "source": [
    "import datetime\n",
    "\n",
    "def canObtainDrivingLicense(age) -> str:\n",
    "    if age < 18 :\n",
    "        return \"不可以考駕照\"\n",
    "    else : \n",
    "        return \"可以考駕照\"\n",
    "\n",
    "\n",
    "age = 17\n",
    "print(canObtainDrivingLicense(age))\n",
    "print(datetime.datetime.now().strftime(\"%Y-%m-%d %H:%M:%S\"))\n",
    "\n",
    "\n"
   ]
  },
  {
   "cell_type": "code",
   "execution_count": 200,
   "metadata": {},
   "outputs": [
    {
     "name": "stdout",
     "output_type": "stream",
     "text": [
      "發生了未知錯誤！ 分數不可超過100分\n",
      "原始分數:500, 加權比重:0.07, 加權後成績:None\n"
     ]
    }
   ],
   "source": [
    "import random\n",
    "import decimal\n",
    "import traceback\n",
    "from decimal import Decimal, ROUND_HALF_UP\n",
    "\n",
    "# 分數依照權重重新計算成績\n",
    "def changeSocre(b: bool, p: int, s: float) -> Decimal:\n",
    "    try:\n",
    "        \n",
    "        _p = Decimal(p)\n",
    "        _s = Decimal(s)\n",
    "\n",
    "        if Decimal(_p) > 100:\n",
    "            raise Exception(\"分數不可超過100分\")\n",
    "        \n",
    "        if b:\n",
    "            result = _p + _p * Decimal(_s)\n",
    "        else:\n",
    "            result = _p\n",
    "        return result.quantize(1, rounding=ROUND_HALF_UP)\n",
    "    \n",
    "    except Exception as e:\n",
    "         #traceback.print_exc()\n",
    "         print(\"發生了未知錯誤！\", e)\n",
    "\n",
    "\n",
    "score = input(\"學生分數\")\n",
    "score2 = random.randint(0, 30) * 0.01\n",
    "print(\"原始分數:{}, 加權比重:{}, 加權後成績:{}\".format(score, score2, changeSocre(True, score, score2)))\n"
   ]
  }
 ],
 "metadata": {
  "kernelspec": {
   "display_name": "p1",
   "language": "python",
   "name": "python3"
  },
  "language_info": {
   "codemirror_mode": {
    "name": "ipython",
    "version": 3
   },
   "file_extension": ".py",
   "mimetype": "text/x-python",
   "name": "python",
   "nbconvert_exporter": "python",
   "pygments_lexer": "ipython3",
   "version": "3.11.9"
  }
 },
 "nbformat": 4,
 "nbformat_minor": 2
}
