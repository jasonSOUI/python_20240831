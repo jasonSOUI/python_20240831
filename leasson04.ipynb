{
 "cells": [
  {
   "cell_type": "code",
   "execution_count": 2,
   "metadata": {},
   "outputs": [
    {
     "name": "stdout",
     "output_type": "stream",
     "text": [
      "不可以考駕照\n",
      "2024-09-14 08:50:20\n"
     ]
    }
   ],
   "source": [
    "import datetime\n",
    "\n",
    "def canObtainDrivingLicense(age) -> str:\n",
    "    if age < 18 :\n",
    "        return \"不可以考駕照\"\n",
    "    else : \n",
    "        return \"可以考駕照\"\n",
    "\n",
    "\n",
    "age = 17\n",
    "print(canObtainDrivingLicense(age))\n",
    "print(datetime.datetime.now().strftime(\"%Y-%m-%d %H:%M:%S\"))\n",
    "\n",
    "\n"
   ]
  },
  {
   "cell_type": "code",
   "execution_count": 201,
   "metadata": {},
   "outputs": [
    {
     "name": "stdout",
     "output_type": "stream",
     "text": [
      "原始分數:50, 加權比重:0.2, 加權後成績:60\n"
     ]
    }
   ],
   "source": [
    "import random\n",
    "import decimal\n",
    "import traceback\n",
    "from decimal import Decimal, ROUND_HALF_UP\n",
    "\n",
    "# 分數依照權重重新計算成績\n",
    "def changeScore(b: bool, p: int, s: float) -> Decimal:\n",
    "    try:\n",
    "        \n",
    "        _p = Decimal(p)\n",
    "        _s = Decimal(s)\n",
    "\n",
    "        if Decimal(_p) > 100:\n",
    "            raise Exception(\"分數不可超過100分\")\n",
    "        \n",
    "        if b:\n",
    "            result = _p + _p * Decimal(_s)\n",
    "        else:\n",
    "            result = _p\n",
    "        return result.quantize(1, rounding=ROUND_HALF_UP)\n",
    "    \n",
    "    except Exception as e:\n",
    "         #traceback.print_exc()\n",
    "         print(\"發生了未知錯誤！\", e)\n",
    "\n",
    "\n",
    "score = input(\"學生分數\")\n",
    "score2 = random.randint(0, 30) * 0.01\n",
    "print(\"原始分數:{}, 加權比重:{}, 加權後成績:{}\".format(score, score2, changeScore(True, score, score2)))\n"
   ]
  },
  {
   "cell_type": "code",
   "execution_count": 3,
   "metadata": {},
   "outputs": [
    {
     "name": "stdout",
     "output_type": "stream",
     "text": [
      "您的BMI值是24.4\n",
      "您的體重過重\n"
     ]
    }
   ],
   "source": [
    "from decimal import Decimal, ROUND_HALF_UP\n",
    "\n",
    "# https://depart.femh.org.tw/dietary/3OPD/BMI.htm\n",
    "def getBMI(height, weight):\n",
    "\n",
    "    try:\n",
    "        # 公分轉公尺\n",
    "        _height = height * Decimal(0.01) \n",
    "\n",
    "        # BMI = 體重(公斤) / 身高2(公尺2)\n",
    "        bmi = weight / (_height ** 2) \n",
    "        bmi = bmi.quantize(Decimal('0.1'), rounding=ROUND_HALF_UP)\n",
    "        \n",
    "        # 狀態判斷\n",
    "        status = \"\"\n",
    "        if bmi >= 35:               # 重度肥胖：BMI≧35\n",
    "            status = \"重度肥胖\"\n",
    "        elif bmi >= 30:             # 中度肥胖：30≦BMI＜35\n",
    "            status = \"中度肥胖\"\n",
    "        elif bmi >= 27 :            # 輕度肥胖：27≦BMI＜30\n",
    "             status = \"輕度肥胖\"  \n",
    "        elif bmi >= 24:             # 過重：24≦BMI＜27\n",
    "            status = \"過重\"        \n",
    "        elif bmi < 18.5:             # 體重過輕 BMI＜18.5\n",
    "            status = \"體重過輕\"         \n",
    "        else:\n",
    "            status = \"正常範圍\"\n",
    "\n",
    "        return \"您的BMI值是{}\\n您的體重{}\".format(bmi, status)\n",
    "    except Exception as e:\n",
    "        traceback.print_exc()\n",
    "        print(\"未知錯誤\", e)\n",
    "\n",
    "try:\n",
    "    height = Decimal(input(\"請輸入身高(公分)\"))\n",
    "    weight = Decimal(input(\"請輸入體重(公尺)\"))\n",
    "    print(getBMI(height, weight))\n",
    "except Exception as e:\n",
    "    print(\"請輸入正確的身高、體重，須為數字\")\n",
    "\n"
   ]
  }
 ],
 "metadata": {
  "kernelspec": {
   "display_name": "p1",
   "language": "python",
   "name": "python3"
  },
  "language_info": {
   "codemirror_mode": {
    "name": "ipython",
    "version": 3
   },
   "file_extension": ".py",
   "mimetype": "text/x-python",
   "name": "python",
   "nbconvert_exporter": "python",
   "pygments_lexer": "ipython3",
   "version": "3.11.9"
  }
 },
 "nbformat": 4,
 "nbformat_minor": 2
}
