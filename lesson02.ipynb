{
 "cells": [
  {
   "cell_type": "code",
   "execution_count": 11,
   "metadata": {},
   "outputs": [
    {
     "name": "stdout",
     "output_type": "stream",
     "text": [
      "1\n",
      "2\n",
      "3\n",
      "4\n",
      "6\n",
      "-------------------------\n",
      "1\n",
      "2\n",
      "3\n",
      "4\n",
      "5\n",
      "-------------------------\n",
      "id 1\n",
      "name jason\n"
     ]
    }
   ],
   "source": [
    "# List\n",
    "x = [1, 2, 3, 4, 6]  \n",
    "for i in x :\n",
    "    print(i)   \n",
    "print(\"-------------------------\")\n",
    "\n",
    "# Set\n",
    "y = {1, 1, 2, 5,3 , 4, 5} \n",
    "for i in y :\n",
    "    print(i)          \n",
    "print(\"-------------------------\")\n",
    "\n",
    "# Map\n",
    "z = {\"id\" : 1, \"name\" : \"jason\"}    \n",
    "for k, v in z.items() :\n",
    "    print(k, v)"
   ]
  }
 ],
 "metadata": {
  "kernelspec": {
   "display_name": "Python 3",
   "language": "python",
   "name": "python3"
  },
  "language_info": {
   "codemirror_mode": {
    "name": "ipython",
    "version": 3
   },
   "file_extension": ".py",
   "mimetype": "text/x-python",
   "name": "python",
   "nbconvert_exporter": "python",
   "pygments_lexer": "ipython3",
   "version": "3.11.9"
  }
 },
 "nbformat": 4,
 "nbformat_minor": 2
}
